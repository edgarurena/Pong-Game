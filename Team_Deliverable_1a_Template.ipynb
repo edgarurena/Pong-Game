{
  "nbformat": 4,
  "nbformat_minor": 0,
  "metadata": {
    "colab": {
      "name": "Team Deliverable_1a_Template.ipynb",
      "provenance": [],
      "collapsed_sections": [],
      "include_colab_link": true
    },
    "kernelspec": {
      "name": "python3",
      "display_name": "Python 3"
    }
  },
  "cells": [
    {
      "cell_type": "markdown",
      "metadata": {
        "id": "view-in-github",
        "colab_type": "text"
      },
      "source": [
        "<a href=\"https://colab.research.google.com/github/TrinityL/Pong-Game/blob/master/Team_Deliverable_1a_Template.ipynb\" target=\"_parent\"><img src=\"https://colab.research.google.com/assets/colab-badge.svg\" alt=\"Open In Colab\"/></a>"
      ]
    },
    {
      "cell_type": "markdown",
      "metadata": {
        "id": "EQvhIaWNJWBA",
        "colab_type": "text"
      },
      "source": [
        "#Characterizing the Temporal Frequency of our Polar Lows Database"
      ]
    },
    {
      "cell_type": "markdown",
      "metadata": {
        "id": "DvBxweKiJiuh",
        "colab_type": "text"
      },
      "source": [
        "Goal: Produce graphs showing the distribution of the polar lows in our database through time"
      ]
    },
    {
      "cell_type": "markdown",
      "metadata": {
        "id": "Jivliy7IJqSE",
        "colab_type": "text"
      },
      "source": [
        "###Install and Load the needed packages"
      ]
    },
    {
      "cell_type": "code",
      "metadata": {
        "id": "6yCS2KZmJNH7",
        "colab_type": "code",
        "outputId": "c11a56cc-bc32-43c8-e1c5-498f792508ca",
        "colab": {
          "base_uri": "https://localhost:8080/",
          "height": 124
        }
      },
      "source": [
        "from google.colab import drive #this module allows us to access files on google drive\n",
        "drive.mount('/content/gdrive') #you will need to authorize access using your google account. Follow the instructions that appear below\n",
        "import pandas as pd #this allows us to use structures like Dataframes\n",
        "import matplotlib.pyplot as plt #this is our plotting package\n",
        "import numpy as np #this allows us to do math with arrays easier\n",
        "\n",
        "#add additional packages below this comment\n",
        "import datetime"
      ],
      "execution_count": 0,
      "outputs": [
        {
          "output_type": "stream",
          "text": [
            "Go to this URL in a browser: https://accounts.google.com/o/oauth2/auth?client_id=947318989803-6bn6qk8qdgf4n4g3pfee6491hc0brc4i.apps.googleusercontent.com&redirect_uri=urn%3aietf%3awg%3aoauth%3a2.0%3aoob&response_type=code&scope=email%20https%3a%2f%2fwww.googleapis.com%2fauth%2fdocs.test%20https%3a%2f%2fwww.googleapis.com%2fauth%2fdrive%20https%3a%2f%2fwww.googleapis.com%2fauth%2fdrive.photos.readonly%20https%3a%2f%2fwww.googleapis.com%2fauth%2fpeopleapi.readonly\n",
            "\n",
            "Enter your authorization code:\n",
            "··········\n",
            "Mounted at /content/gdrive\n"
          ],
          "name": "stdout"
        }
      ]
    },
    {
      "cell_type": "markdown",
      "metadata": {
        "id": "kxM_v5roJwIG",
        "colab_type": "text"
      },
      "source": [
        "###Read in the database of polar lows from last semester"
      ]
    },
    {
      "cell_type": "markdown",
      "metadata": {
        "id": "jEH1ogoZOkRV",
        "colab_type": "text"
      },
      "source": [
        "The polar lows collected by the previous members of FIRE-CC are stored in a dataframe in a file on our shared drive. We will read it in directly instead of reconstructing it from the log. Check out the readme file in the same directory and of the same name as the pkl file to learn more about how it was created and what is included."
      ]
    },
    {
      "cell_type": "code",
      "metadata": {
        "id": "OMGxjNlfJbpO",
        "colab_type": "code",
        "outputId": "a274b2a9-cd51-47bd-c987-012d3756a163",
        "colab": {
          "base_uri": "https://localhost:8080/",
          "height": 415
        }
      },
      "source": [
        "#The line below reads in a dataframe from a python native storage file format called pkl (pronounced \"pickle\")\n",
        "PolarLows_df = pd.read_pickle(\"/content/gdrive/Shared drives/FIRE-CC/pkl files/PolarLowsFall2019.pkl\")\n",
        "PolarLows_df\n",
        "qqqqq"
      ],
      "execution_count": 0,
      "outputs": [
        {
          "output_type": "execute_result",
          "data": {
            "text/html": [
              "<div>\n",
              "<style scoped>\n",
              "    .dataframe tbody tr th:only-of-type {\n",
              "        vertical-align: middle;\n",
              "    }\n",
              "\n",
              "    .dataframe tbody tr th {\n",
              "        vertical-align: top;\n",
              "    }\n",
              "\n",
              "    .dataframe thead th {\n",
              "        text-align: right;\n",
              "    }\n",
              "</style>\n",
              "<table border=\"1\" class=\"dataframe\">\n",
              "  <thead>\n",
              "    <tr style=\"text-align: right;\">\n",
              "      <th></th>\n",
              "      <th>Date</th>\n",
              "      <th>Satellite</th>\n",
              "      <th>Confidence</th>\n",
              "      <th>Top Latitude</th>\n",
              "      <th>Bot Latitude</th>\n",
              "      <th>Right Longitude</th>\n",
              "      <th>Left Longitude</th>\n",
              "    </tr>\n",
              "  </thead>\n",
              "  <tbody>\n",
              "    <tr>\n",
              "      <th>0</th>\n",
              "      <td>2018-04-22</td>\n",
              "      <td>Terra</td>\n",
              "      <td>2</td>\n",
              "      <td>-45.4922</td>\n",
              "      <td>-54.2812</td>\n",
              "      <td>137.1094</td>\n",
              "      <td>128.3203</td>\n",
              "    </tr>\n",
              "    <tr>\n",
              "      <th>1</th>\n",
              "      <td>2018-04-22</td>\n",
              "      <td>Terra</td>\n",
              "      <td>1</td>\n",
              "      <td>59.2031</td>\n",
              "      <td>50.4141</td>\n",
              "      <td>-41.0977</td>\n",
              "      <td>-49.8867</td>\n",
              "    </tr>\n",
              "    <tr>\n",
              "      <th>2</th>\n",
              "      <td>2018-04-23</td>\n",
              "      <td>Aqua</td>\n",
              "      <td>2</td>\n",
              "      <td>60.5742</td>\n",
              "      <td>51.7852</td>\n",
              "      <td>-31.6758</td>\n",
              "      <td>-40.4648</td>\n",
              "    </tr>\n",
              "    <tr>\n",
              "      <th>3</th>\n",
              "      <td>2018-04-23</td>\n",
              "      <td>Aqua</td>\n",
              "      <td>2</td>\n",
              "      <td>-47.4609</td>\n",
              "      <td>-56.2500</td>\n",
              "      <td>-90.3516</td>\n",
              "      <td>-99.1406</td>\n",
              "    </tr>\n",
              "    <tr>\n",
              "      <th>4</th>\n",
              "      <td>2018-04-23</td>\n",
              "      <td>Aqua</td>\n",
              "      <td>2</td>\n",
              "      <td>-59.0625</td>\n",
              "      <td>-67.8516</td>\n",
              "      <td>-67.6406</td>\n",
              "      <td>-76.4297</td>\n",
              "    </tr>\n",
              "    <tr>\n",
              "      <th>...</th>\n",
              "      <td>...</td>\n",
              "      <td>...</td>\n",
              "      <td>...</td>\n",
              "      <td>...</td>\n",
              "      <td>...</td>\n",
              "      <td>...</td>\n",
              "      <td>...</td>\n",
              "    </tr>\n",
              "    <tr>\n",
              "      <th>422</th>\n",
              "      <td>2019-02-24</td>\n",
              "      <td>Terra</td>\n",
              "      <td>1</td>\n",
              "      <td>53.1211</td>\n",
              "      <td>44.1910</td>\n",
              "      <td>-171.0700</td>\n",
              "      <td>-180.1400</td>\n",
              "    </tr>\n",
              "    <tr>\n",
              "      <th>423</th>\n",
              "      <td>2019-02-24</td>\n",
              "      <td>Terra</td>\n",
              "      <td>2</td>\n",
              "      <td>48.4102</td>\n",
              "      <td>39.6211</td>\n",
              "      <td>-28.1250</td>\n",
              "      <td>-36.9141</td>\n",
              "    </tr>\n",
              "    <tr>\n",
              "      <th>424</th>\n",
              "      <td>2019-02-24</td>\n",
              "      <td>Terra</td>\n",
              "      <td>2</td>\n",
              "      <td>-63.2630</td>\n",
              "      <td>-72.0520</td>\n",
              "      <td>172.8630</td>\n",
              "      <td>164.0740</td>\n",
              "    </tr>\n",
              "    <tr>\n",
              "      <th>425</th>\n",
              "      <td>2019-02-24</td>\n",
              "      <td>Terra</td>\n",
              "      <td>1</td>\n",
              "      <td>-50.0270</td>\n",
              "      <td>-58.8160</td>\n",
              "      <td>107.1560</td>\n",
              "      <td>98.3672</td>\n",
              "    </tr>\n",
              "    <tr>\n",
              "      <th>426</th>\n",
              "      <td>2019-02-23</td>\n",
              "      <td>Terra</td>\n",
              "      <td>1</td>\n",
              "      <td>-61.5410</td>\n",
              "      <td>-70.3300</td>\n",
              "      <td>-159.9960</td>\n",
              "      <td>-159.7850</td>\n",
              "    </tr>\n",
              "  </tbody>\n",
              "</table>\n",
              "<p>427 rows × 7 columns</p>\n",
              "</div>"
            ],
            "text/plain": [
              "          Date Satellite  ... Right Longitude  Left Longitude\n",
              "0   2018-04-22     Terra  ...        137.1094        128.3203\n",
              "1   2018-04-22     Terra  ...        -41.0977        -49.8867\n",
              "2   2018-04-23      Aqua  ...        -31.6758        -40.4648\n",
              "3   2018-04-23      Aqua  ...        -90.3516        -99.1406\n",
              "4   2018-04-23      Aqua  ...        -67.6406        -76.4297\n",
              "..         ...       ...  ...             ...             ...\n",
              "422 2019-02-24     Terra  ...       -171.0700       -180.1400\n",
              "423 2019-02-24     Terra  ...        -28.1250        -36.9141\n",
              "424 2019-02-24     Terra  ...        172.8630        164.0740\n",
              "425 2019-02-24     Terra  ...        107.1560         98.3672\n",
              "426 2019-02-23     Terra  ...       -159.9960       -159.7850\n",
              "\n",
              "[427 rows x 7 columns]"
            ]
          },
          "metadata": {
            "tags": []
          },
          "execution_count": 2
        }
      ]
    },
    {
      "cell_type": "markdown",
      "metadata": {
        "id": "L1ttyJ_2J4AX",
        "colab_type": "text"
      },
      "source": [
        "##Objective 1: Create histograms showing the monthly distribution of polar lows for the artic and antarctic"
      ]
    },
    {
      "cell_type": "markdown",
      "metadata": {
        "id": "YL6rbISCKfxu",
        "colab_type": "text"
      },
      "source": [
        "###Put data into monthly bins"
      ]
    },
    {
      "cell_type": "code",
      "metadata": {
        "colab_type": "code",
        "id": "3Sk4LNQ6faTK",
        "outputId": "c50b6e10-6ca4-4bf7-ea7a-9ed2784413ec",
        "colab": {
          "base_uri": "https://localhost:8080/",
          "height": 225
        }
      },
      "source": [
        "for lab, row in PolarLows_df.iterrows() :\n",
        "    PolarLows_df.loc[lab, \"MONTH\"] = row[\"Date\"].month\n",
        "\n",
        "print(PolarLows_df[\"MONTH\"])"
      ],
      "execution_count": 0,
      "outputs": [
        {
          "output_type": "stream",
          "text": [
            "0      4.0\n",
            "1      4.0\n",
            "2      4.0\n",
            "3      4.0\n",
            "4      4.0\n",
            "      ... \n",
            "422    2.0\n",
            "423    2.0\n",
            "424    2.0\n",
            "425    2.0\n",
            "426    2.0\n",
            "Name: MONTH, Length: 427, dtype: float64\n"
          ],
          "name": "stdout"
        }
      ]
    },
    {
      "cell_type": "markdown",
      "metadata": {
        "id": "VZX2oMLTKVQu",
        "colab_type": "text"
      },
      "source": [
        "###Separate the polar lows from the arctic and antarctic"
      ]
    },
    {
      "cell_type": "code",
      "metadata": {
        "id": "sL2MkM0zKe4C",
        "colab_type": "code",
        "outputId": "3fdb58bb-c828-43a1-a90f-e816aa92766a",
        "colab": {
          "base_uri": "https://localhost:8080/",
          "height": 415
        }
      },
      "source": [
        "Antarctic = PolarLows_df[PolarLows_df[\"Top Latitude\"] < 0]\n",
        "Arctic = PolarLows_df[PolarLows_df[\"Top Latitude\"] > 0]\n",
        "Antarctic\n",
        "Arctic"
      ],
      "execution_count": 0,
      "outputs": [
        {
          "output_type": "execute_result",
          "data": {
            "text/html": [
              "<div>\n",
              "<style scoped>\n",
              "    .dataframe tbody tr th:only-of-type {\n",
              "        vertical-align: middle;\n",
              "    }\n",
              "\n",
              "    .dataframe tbody tr th {\n",
              "        vertical-align: top;\n",
              "    }\n",
              "\n",
              "    .dataframe thead th {\n",
              "        text-align: right;\n",
              "    }\n",
              "</style>\n",
              "<table border=\"1\" class=\"dataframe\">\n",
              "  <thead>\n",
              "    <tr style=\"text-align: right;\">\n",
              "      <th></th>\n",
              "      <th>Date</th>\n",
              "      <th>Satellite</th>\n",
              "      <th>Confidence</th>\n",
              "      <th>Top Latitude</th>\n",
              "      <th>Bot Latitude</th>\n",
              "      <th>Right Longitude</th>\n",
              "      <th>Left Longitude</th>\n",
              "      <th>MONTH</th>\n",
              "    </tr>\n",
              "  </thead>\n",
              "  <tbody>\n",
              "    <tr>\n",
              "      <th>1</th>\n",
              "      <td>2018-04-22</td>\n",
              "      <td>Terra</td>\n",
              "      <td>1</td>\n",
              "      <td>59.2031</td>\n",
              "      <td>50.4141</td>\n",
              "      <td>-41.0977</td>\n",
              "      <td>-49.8867</td>\n",
              "      <td>4.0</td>\n",
              "    </tr>\n",
              "    <tr>\n",
              "      <th>2</th>\n",
              "      <td>2018-04-23</td>\n",
              "      <td>Aqua</td>\n",
              "      <td>2</td>\n",
              "      <td>60.5742</td>\n",
              "      <td>51.7852</td>\n",
              "      <td>-31.6758</td>\n",
              "      <td>-40.4648</td>\n",
              "      <td>4.0</td>\n",
              "    </tr>\n",
              "    <tr>\n",
              "      <th>13</th>\n",
              "      <td>2018-04-28</td>\n",
              "      <td>Aqua</td>\n",
              "      <td>2</td>\n",
              "      <td>73.9587</td>\n",
              "      <td>65.1733</td>\n",
              "      <td>-3.5321</td>\n",
              "      <td>-12.3175</td>\n",
              "      <td>4.0</td>\n",
              "    </tr>\n",
              "    <tr>\n",
              "      <th>14</th>\n",
              "      <td>2018-04-29</td>\n",
              "      <td>Aqua</td>\n",
              "      <td>1</td>\n",
              "      <td>78.0293</td>\n",
              "      <td>69.2402</td>\n",
              "      <td>37.0898</td>\n",
              "      <td>28.3008</td>\n",
              "      <td>4.0</td>\n",
              "    </tr>\n",
              "    <tr>\n",
              "      <th>16</th>\n",
              "      <td>2018-04-30</td>\n",
              "      <td>Terra</td>\n",
              "      <td>1</td>\n",
              "      <td>69.2754</td>\n",
              "      <td>60.4863</td>\n",
              "      <td>-27.5273</td>\n",
              "      <td>-36.3164</td>\n",
              "      <td>4.0</td>\n",
              "    </tr>\n",
              "    <tr>\n",
              "      <th>...</th>\n",
              "      <td>...</td>\n",
              "      <td>...</td>\n",
              "      <td>...</td>\n",
              "      <td>...</td>\n",
              "      <td>...</td>\n",
              "      <td>...</td>\n",
              "      <td>...</td>\n",
              "      <td>...</td>\n",
              "    </tr>\n",
              "    <tr>\n",
              "      <th>416</th>\n",
              "      <td>2019-02-25</td>\n",
              "      <td>Terra</td>\n",
              "      <td>2</td>\n",
              "      <td>48.1805</td>\n",
              "      <td>38.7586</td>\n",
              "      <td>-37.7543</td>\n",
              "      <td>-46.5785</td>\n",
              "      <td>2.0</td>\n",
              "    </tr>\n",
              "    <tr>\n",
              "      <th>420</th>\n",
              "      <td>2019-02-24</td>\n",
              "      <td>Terra</td>\n",
              "      <td>2</td>\n",
              "      <td>44.4340</td>\n",
              "      <td>35.6170</td>\n",
              "      <td>168.7813</td>\n",
              "      <td>159.9640</td>\n",
              "      <td>2.0</td>\n",
              "    </tr>\n",
              "    <tr>\n",
              "      <th>421</th>\n",
              "      <td>2019-02-24</td>\n",
              "      <td>Terra</td>\n",
              "      <td>1</td>\n",
              "      <td>58.5260</td>\n",
              "      <td>49.7373</td>\n",
              "      <td>169.4880</td>\n",
              "      <td>160.6990</td>\n",
              "      <td>2.0</td>\n",
              "    </tr>\n",
              "    <tr>\n",
              "      <th>422</th>\n",
              "      <td>2019-02-24</td>\n",
              "      <td>Terra</td>\n",
              "      <td>1</td>\n",
              "      <td>53.1211</td>\n",
              "      <td>44.1910</td>\n",
              "      <td>-171.0700</td>\n",
              "      <td>-180.1400</td>\n",
              "      <td>2.0</td>\n",
              "    </tr>\n",
              "    <tr>\n",
              "      <th>423</th>\n",
              "      <td>2019-02-24</td>\n",
              "      <td>Terra</td>\n",
              "      <td>2</td>\n",
              "      <td>48.4102</td>\n",
              "      <td>39.6211</td>\n",
              "      <td>-28.1250</td>\n",
              "      <td>-36.9141</td>\n",
              "      <td>2.0</td>\n",
              "    </tr>\n",
              "  </tbody>\n",
              "</table>\n",
              "<p>159 rows × 8 columns</p>\n",
              "</div>"
            ],
            "text/plain": [
              "          Date Satellite Confidence  ...  Right Longitude  Left Longitude  MONTH\n",
              "1   2018-04-22     Terra          1  ...         -41.0977        -49.8867    4.0\n",
              "2   2018-04-23      Aqua          2  ...         -31.6758        -40.4648    4.0\n",
              "13  2018-04-28      Aqua          2  ...          -3.5321        -12.3175    4.0\n",
              "14  2018-04-29      Aqua          1  ...          37.0898         28.3008    4.0\n",
              "16  2018-04-30     Terra          1  ...         -27.5273        -36.3164    4.0\n",
              "..         ...       ...        ...  ...              ...             ...    ...\n",
              "416 2019-02-25     Terra          2  ...         -37.7543        -46.5785    2.0\n",
              "420 2019-02-24     Terra          2  ...         168.7813        159.9640    2.0\n",
              "421 2019-02-24     Terra          1  ...         169.4880        160.6990    2.0\n",
              "422 2019-02-24     Terra          1  ...        -171.0700       -180.1400    2.0\n",
              "423 2019-02-24     Terra          2  ...         -28.1250        -36.9141    2.0\n",
              "\n",
              "[159 rows x 8 columns]"
            ]
          },
          "metadata": {
            "tags": []
          },
          "execution_count": 4
        }
      ]
    },
    {
      "cell_type": "markdown",
      "metadata": {
        "id": "LQ6tsynNK0yu",
        "colab_type": "text"
      },
      "source": [
        "###Normalize monthly data by how many days in that month and scale each to a 30 day month"
      ]
    },
    {
      "cell_type": "code",
      "metadata": {
        "id": "CXFN1Rtm2TAS",
        "colab_type": "code",
        "outputId": "34d03e90-a928-4066-c45e-2faf821cbf40",
        "colab": {
          "base_uri": "https://localhost:8080/",
          "height": 35
        }
      },
      "source": [
        "print(j)"
      ],
      "execution_count": 0,
      "outputs": [
        {
          "output_type": "stream",
          "text": [
            "13\n"
          ],
          "name": "stdout"
        }
      ]
    },
    {
      "cell_type": "code",
      "metadata": {
        "id": "McL2fFjBLCl8",
        "colab_type": "code",
        "outputId": "8174b9a7-1349-48b0-bed6-cd3fa81c05bc",
        "colab": {
          "base_uri": "https://localhost:8080/",
          "height": 433
        }
      },
      "source": [
        "#Needs to be completed: normalize for arctic/antarctic individually, not entire polar lows dataframe,\n",
        "#commenting out code to explain functionality\n",
        "\n",
        "counterData = []\n",
        "histData = []\n",
        "daysInMonth = [62, 56, 62, 60, 62, 60, 62, 62, 60, 62, 60, 62]\n",
        "j = 1\n",
        "while j < 13 :\n",
        "   counter = 0\n",
        "   for i in range(len(PolarLows_df)) :\n",
        "    if(PolarLows_df.loc[i, \"MONTH\"] == j) :\n",
        "      counter += 1\n",
        "   counterData.append(counter)\n",
        "   j += 1\n",
        "\n",
        "\n",
        "\n",
        "for q in range(len(counterData)):\n",
        "  histdata = (np.divide(counterData, daysInMonth) * 30)\n",
        "\n",
        "for x in counterData :\n",
        "  print(x)\n",
        "\n",
        "for x in histdata :\n",
        "  print(x)\n"
      ],
      "execution_count": 0,
      "outputs": [
        {
          "output_type": "stream",
          "text": [
            "26\n",
            "57\n",
            "51\n",
            "47\n",
            "69\n",
            "46\n",
            "4\n",
            "0\n",
            "0\n",
            "25\n",
            "51\n",
            "51\n",
            "12.580645161290324\n",
            "30.535714285714285\n",
            "24.67741935483871\n",
            "23.5\n",
            "33.387096774193544\n",
            "23.0\n",
            "1.935483870967742\n",
            "0.0\n",
            "0.0\n",
            "12.096774193548386\n",
            "25.5\n",
            "24.67741935483871\n"
          ],
          "name": "stdout"
        }
      ]
    },
    {
      "cell_type": "markdown",
      "metadata": {
        "id": "67U0m2JqLDzv",
        "colab_type": "text"
      },
      "source": [
        "###Visualize Histogram"
      ]
    },
    {
      "cell_type": "code",
      "metadata": {
        "id": "vI1fUpaiLGIS",
        "colab_type": "code",
        "colab": {}
      },
      "source": [
        ""
      ],
      "execution_count": 0,
      "outputs": []
    },
    {
      "cell_type": "markdown",
      "metadata": {
        "id": "Kzd5DIJrLHXu",
        "colab_type": "text"
      },
      "source": [
        "###Compare results to Noer et al (2011)"
      ]
    },
    {
      "cell_type": "markdown",
      "metadata": {
        "id": "Uum-oosOLQVG",
        "colab_type": "text"
      },
      "source": [
        ""
      ]
    },
    {
      "cell_type": "markdown",
      "metadata": {
        "id": "Q52yNk4PLSQi",
        "colab_type": "text"
      },
      "source": [
        "##Objective 2: Visualize time gaps in our database"
      ]
    },
    {
      "cell_type": "markdown",
      "metadata": {
        "id": "dy-yM5xXMErG",
        "colab_type": "text"
      },
      "source": [
        "**Now it's your turn to create the process to address an objective.**\n",
        "\n",
        " Discuss your approach to visualizing these gaps. What kind of graph will you make and why? How will it help answer the question of where we need to target our polar low observations?"
      ]
    },
    {
      "cell_type": "code",
      "metadata": {
        "id": "niuIlAi_LPAe",
        "colab_type": "code",
        "outputId": "5c4604d2-5a50-497a-d848-b7a27863c312",
        "colab": {
          "base_uri": "https://localhost:8080/",
          "height": 1000
        }
      },
      "source": [
        "#Needs to be completed: labelling for graph titles/axis, changing figure 2 and figure 4's ticks\n",
        "#to just month-day instead of year-month-day (to decrease clutter)\n",
        "\n",
        "#Histogram for all polar lows in the arctic from 2018-04 to 2019-02\n",
        "plt.figure(1)\n",
        "plt.hist(Arctic[\"Date\"], 104) #Bins represent one week in time\n",
        "plt.tight_layout(0.001)\n",
        "\n",
        "#Histogram for all polar lows in the arctic from 2018-11 to 2019-03\n",
        "#Shows more specifically at what times we have gaps in the data\n",
        "plt.figure(2)\n",
        "lower = datetime.datetime(2018,11,1)\n",
        "upper = datetime.datetime(2019,3,1)\n",
        "plt.xlim(lower, upper)\n",
        "plt.hist(Arctic[\"Date\"], 104) #Bins represent one week in time\n",
        "plt.tight_layout(0.001)\n",
        "\n",
        "#Histogram for all polar lows in the antarctic from 2018-04 to 2019-02\n",
        "plt.figure(3)\n",
        "plt.hist(Antarctic[\"Date\"], 104) #Bins represent one week in time\n",
        "plt.tight_layout(0.001)\n",
        "plt.show()\n",
        "\n",
        "#Histogram for all polar lows in the antarctic from 2018-11 to 2019-03\n",
        "#Again, shows more specifically at what times we have gaps in the data\n",
        "plt.figure(4)\n",
        "plt.xlim(lower, upper)\n",
        "plt.hist(Antarctic[\"Date\"], 104)\n",
        "plt.tight_layout(0.001)"
      ],
      "execution_count": 0,
      "outputs": [
        {
          "output_type": "stream",
          "text": [
            "/usr/local/lib/python3.6/dist-packages/pandas/plotting/_matplotlib/converter.py:103: FutureWarning: Using an implicitly registered datetime converter for a matplotlib plotting method. The converter was registered by pandas on import. Future versions of pandas will require you to explicitly register matplotlib converters.\n",
            "\n",
            "To register the converters:\n",
            "\t>>> from pandas.plotting import register_matplotlib_converters\n",
            "\t>>> register_matplotlib_converters()\n",
            "  warnings.warn(msg, FutureWarning)\n"
          ],
          "name": "stderr"
        },
        {
          "output_type": "display_data",
          "data": {
            "image/png": "[encoded data removed]",
            "text/plain": [
              "<Figure size 432x288 with 1 Axes>"
            ]
          },
          "metadata": {
            "tags": []
          }
        },
        {
          "output_type": "display_data",
          "data": {
            "image/png": "[encoded data removed]",
            "text/plain": [
              "<Figure size 432x288 with 1 Axes>"
            ]
          },
          "metadata": {
            "tags": []
          }
        },
        {
          "output_type": "display_data",
          "data": {
            "image/png": "[encoded data removed]",
            "text/plain": [
              "<Figure size 432x288 with 1 Axes>"
            ]
          },
          "metadata": {
            "tags": []
          }
        },
        {
          "output_type": "display_data",
          "data": {
            "image/png": "[encoded data removed]",
            "text/plain": [
              "<Figure size 432x288 with 1 Axes>"
            ]
          },
          "metadata": {
            "tags": []
          }
        }
      ]
    },
    {
      "cell_type": "markdown",
      "metadata": {
        "id": "t8XNk_ZpMeru",
        "colab_type": "text"
      },
      "source": [
        "###Make explicit recommendations on which time periods should be target by our class to search for polar lows"
      ]
    },
    {
      "cell_type": "markdown",
      "metadata": {
        "id": "wByzL78EMrW7",
        "colab_type": "text"
      },
      "source": [
        ""
      ]
    },
    {
      "cell_type": "code",
      "metadata": {
        "id": "00R_zp7eMqHt",
        "colab_type": "code",
        "colab": {}
      },
      "source": [
        ""
      ],
      "execution_count": 0,
      "outputs": []
    }
  ]
}